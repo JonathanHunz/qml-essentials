{
 "cells": [
  {
   "cell_type": "code",
   "execution_count": 1,
   "metadata": {},
   "outputs": [
    {
     "name": "stdout",
     "output_type": "stream",
     "text": [
      "No_Ansatz\n",
      "Circuit_1\n",
      "Circuit_2\n",
      "Circuit_3\n",
      "Circuit_4\n",
      "Circuit_6\n",
      "Circuit_9\n",
      "Circuit_10\n",
      "Circuit_15\n",
      "Circuit_16\n",
      "Circuit_17\n",
      "Circuit_18\n",
      "Circuit_19\n",
      "No_Entangling\n",
      "Strongly_Entangling\n",
      "Hardware_Efficient\n"
     ]
    }
   ],
   "source": [
    "from qml_essentials.ansaetze import Ansaetze\n",
    "all_ansaetze = Ansaetze.get_available()\n",
    "\n",
    "for ansatz in all_ansaetze:\n",
    "    print(ansatz.__name__)"
   ]
  }
 ],
 "metadata": {
  "kernelspec": {
   "display_name": ".venv",
   "language": "python",
   "name": "python3"
  },
  "language_info": {
   "codemirror_mode": {
    "name": "ipython",
    "version": 3
   },
   "file_extension": ".py",
   "mimetype": "text/x-python",
   "name": "python",
   "nbconvert_exporter": "python",
   "pygments_lexer": "ipython3",
   "version": "3.11.11"
  }
 },
 "nbformat": 4,
 "nbformat_minor": 2
}
